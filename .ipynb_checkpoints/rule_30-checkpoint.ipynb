{
 "cells": [
  {
   "cell_type": "code",
   "execution_count": 140,
   "metadata": {},
   "outputs": [],
   "source": [
    "import matplotlib.pyplot as plt\n",
    "import numpy as np"
   ]
  },
  {
   "cell_type": "code",
   "execution_count": 141,
   "metadata": {},
   "outputs": [],
   "source": [
    "init_arr = [0,0,0,0,0,0,0,0,0,0,0,0,1,0,0,0,0,0,0,0,0,0,0,0,0,0,0]\n",
    "\n",
    "def add_array(arr):\n",
    "    i = 0\n",
    "    new_array= []\n",
    "    for i in range(len(arr)):\n",
    "        if i == len(arr) - 1: \n",
    "            new_array.append(0)\n",
    "            break\n",
    "        elif arr[i-1] == 0 and arr[i] == 0 and arr[i+1] == 0: #000\n",
    "            new_array.append(0)\n",
    "        elif arr[i-1] == 0 and arr[i] == 0 and arr[i+1] == 1: #001\n",
    "            new_array.append(1)\n",
    "        elif arr[i-1] == 0 and arr[i] == 1 and arr[i+1] == 0: #010\n",
    "            new_array.append(1)\n",
    "        elif arr[i-1] == 0 and arr[i] == 1 and arr[i+1] == 1: #011\n",
    "            new_array.append(1)\n",
    "        elif arr[i-1] == 1 and arr[i] == 0 and arr[i+1] == 0: #100\n",
    "            new_array.append(1)\n",
    "        elif arr[i-1] == 1 and arr[i] == 0 and arr[i+1] == 1: #101\n",
    "            new_array.append(0)\n",
    "        elif arr[i-1] == 1 and arr[i] == 1 and arr[i+1] == 0: #110\n",
    "            new_array.append(0)\n",
    "        elif arr[i-1] == 1 and arr[i] == 1 and arr[i+1] == 1: #111\n",
    "            new_array.append(0)\n",
    "            \n",
    "    return new_array\n"
   ]
  },
  {
   "cell_type": "code",
   "execution_count": 155,
   "metadata": {},
   "outputs": [
    {
     "data": {
      "image/png": "[encoded data removed]",
      "text/plain": [
       "<Figure size 720x2880 with 1 Axes>"
      ]
     },
     "metadata": {
      "needs_background": "light"
     },
     "output_type": "display_data"
    }
   ],
   "source": [
    "a = []\n",
    "x = []\n",
    "for i in range(20):\n",
    "    if i == 0:\n",
    "        a.append(init_arr)\n",
    "    elif i == 1:\n",
    "        x = add_array(init_arr)\n",
    "        a.append(x)\n",
    "    elif i >= 1:\n",
    "        x = add_array(x)\n",
    "        a.append(x)\n",
    "        \n",
    "y=np.array([np.array(xi) for xi in a])\n",
    "\n",
    "plt.figure(figsize = (10,40))\n",
    "\n",
    "plt.imshow(y, interpolation='nearest')\n",
    "plt.show()"
   ]
  },
  {
   "cell_type": "code",
   "execution_count": null,
   "metadata": {},
   "outputs": [],
   "source": []
  }
 ],
 "metadata": {
  "kernelspec": {
   "display_name": "Python (fast_ai)",
   "language": "python",
   "name": "fast_ai"
  },
  "language_info": {
   "codemirror_mode": {
    "name": "ipython",
    "version": 3
   },
   "file_extension": ".py",
   "mimetype": "text/x-python",
   "name": "python",
   "nbconvert_exporter": "python",
   "pygments_lexer": "ipython3",
   "version": "3.7.3"
  }
 },
 "nbformat": 4,
 "nbformat_minor": 2
}
